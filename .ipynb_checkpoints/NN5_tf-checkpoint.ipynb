{
 "cells": [
  {
   "cell_type": "markdown",
   "metadata": {},
   "source": [
    "## Imports"
   ]
  },
  {
   "cell_type": "code",
   "execution_count": 1,
   "metadata": {},
   "outputs": [],
   "source": [
    "import matplotlib.pyplot as plt\n",
    "from matplotlib.colors import ListedColormap\n",
    "import numpy as np\n",
    "import pandas as pd\n",
    "import seaborn as sns\n",
    "sns.set(style=\"white\")\n",
    "%matplotlib inline"
   ]
  },
  {
   "cell_type": "markdown",
   "metadata": {},
   "source": [
    "# White - Whink - Pink - Pired - Red noise classification with Neural Network"
   ]
  },
  {
   "cell_type": "markdown",
   "metadata": {},
   "source": [
    "## Loading data"
   ]
  },
  {
   "cell_type": "code",
   "execution_count": 2,
   "metadata": {},
   "outputs": [
    {
     "data": {
      "text/html": [
       "<div>\n",
       "<style scoped>\n",
       "    .dataframe tbody tr th:only-of-type {\n",
       "        vertical-align: middle;\n",
       "    }\n",
       "\n",
       "    .dataframe tbody tr th {\n",
       "        vertical-align: top;\n",
       "    }\n",
       "\n",
       "    .dataframe thead th {\n",
       "        text-align: right;\n",
       "    }\n",
       "</style>\n",
       "<table border=\"1\" class=\"dataframe\">\n",
       "  <thead>\n",
       "    <tr style=\"text-align: right;\">\n",
       "      <th></th>\n",
       "      <th>Hurst</th>\n",
       "      <th>Length</th>\n",
       "      <th>Colour_idx</th>\n",
       "      <th>Colour</th>\n",
       "    </tr>\n",
       "  </thead>\n",
       "  <tbody>\n",
       "    <tr>\n",
       "      <th>31090</th>\n",
       "      <td>0.730872</td>\n",
       "      <td>3790</td>\n",
       "      <td>1</td>\n",
       "      <td>whink</td>\n",
       "    </tr>\n",
       "    <tr>\n",
       "      <th>17743</th>\n",
       "      <td>0.818537</td>\n",
       "      <td>9060</td>\n",
       "      <td>2</td>\n",
       "      <td>pink</td>\n",
       "    </tr>\n",
       "    <tr>\n",
       "      <th>38160</th>\n",
       "      <td>1.235185</td>\n",
       "      <td>5120</td>\n",
       "      <td>3</td>\n",
       "      <td>pired</td>\n",
       "    </tr>\n",
       "    <tr>\n",
       "      <th>35776</th>\n",
       "      <td>0.818906</td>\n",
       "      <td>1100</td>\n",
       "      <td>1</td>\n",
       "      <td>whink</td>\n",
       "    </tr>\n",
       "    <tr>\n",
       "      <th>43060</th>\n",
       "      <td>1.268132</td>\n",
       "      <td>4570</td>\n",
       "      <td>3</td>\n",
       "      <td>pired</td>\n",
       "    </tr>\n",
       "  </tbody>\n",
       "</table>\n",
       "</div>"
      ],
      "text/plain": [
       "          Hurst  Length  Colour_idx Colour\n",
       "31090  0.730872    3790           1  whink\n",
       "17743  0.818537    9060           2   pink\n",
       "38160  1.235185    5120           3  pired\n",
       "35776  0.818906    1100           1  whink\n",
       "43060  1.268132    4570           3  pired"
      ]
     },
     "execution_count": 2,
     "metadata": {},
     "output_type": "execute_result"
    }
   ],
   "source": [
    "wpr = pd.read_table('./noise/clf_noise5.txt', header=None, sep=' ', names=['Hurst', 'Length', 'Colour_idx', 'Colour'])\n",
    "wpr = wpr.sample(frac=1)\n",
    "wpr.head()"
   ]
  },
  {
   "cell_type": "code",
   "execution_count": 3,
   "metadata": {},
   "outputs": [
    {
     "data": {
      "text/plain": [
       "<matplotlib.legend.Legend at 0x1090f7e48>"
      ]
     },
     "execution_count": 3,
     "metadata": {},
     "output_type": "execute_result"
    },
    {
     "data": {
      "image/png": "[encoded data removed]",
      "text/plain": [
       "<Figure size 432x288 with 1 Axes>"
      ]
     },
     "metadata": {},
     "output_type": "display_data"
    }
   ],
   "source": [
    "L_plot = wpr['Length']\n",
    "H_plot = wpr['Hurst']\n",
    "plt.plot(L_plot[wpr['Colour_idx'] == 0], H_plot[wpr['Colour_idx'] == 0], 'ok', label='$H_{wn}$')\n",
    "plt.plot(L_plot[wpr['Colour_idx'] == 1], H_plot[wpr['Colour_idx'] == 1], 'oc', label='$H_{wpn}$')\n",
    "plt.plot(L_plot[wpr['Colour_idx'] == 2], H_plot[wpr['Colour_idx'] == 2], 'om', label='$H_{pn}$')\n",
    "plt.plot(L_plot[wpr['Colour_idx'] == 3], H_plot[wpr['Colour_idx'] == 3], 'og', label='$H_{prn}$')\n",
    "plt.plot(L_plot[wpr['Colour_idx'] == 4], H_plot[wpr['Colour_idx'] == 4], 'or', label='$H_{rn}$')\n",
    "plt.xlim(-200, 10300)\n",
    "plt.ylim(0.3, 1.8)\n",
    "plt.title('Hurst exponent for white, whink, pink, pired, and red noises')\n",
    "plt.xlabel('Time series length')\n",
    "plt.ylabel('Hurst exponent')\n",
    "plt.legend(loc='center left', bbox_to_anchor=(1, 0.8))"
   ]
  },
  {
   "cell_type": "markdown",
   "metadata": {},
   "source": [
    "## ML imports"
   ]
  },
  {
   "cell_type": "code",
   "execution_count": 4,
   "metadata": {},
   "outputs": [
    {
     "name": "stderr",
     "output_type": "stream",
     "text": [
      "/Applications/anaconda3/lib/python3.6/site-packages/h5py/__init__.py:36: FutureWarning: Conversion of the second argument of issubdtype from `float` to `np.floating` is deprecated. In future, it will be treated as `np.float64 == np.dtype(float).type`.\n",
      "  from ._conv import register_converters as _register_converters\n"
     ]
    }
   ],
   "source": [
    "from sklearn.model_selection import train_test_split\n",
    "from sklearn.preprocessing import StandardScaler\n",
    "\n",
    "import tensorflow as tf"
   ]
  },
  {
   "cell_type": "markdown",
   "metadata": {},
   "source": [
    "## Train and test sets"
   ]
  },
  {
   "cell_type": "code",
   "execution_count": 5,
   "metadata": {},
   "outputs": [
    {
     "name": "stdout",
     "output_type": "stream",
     "text": [
      "X_train shape: (34685, 2)\n",
      "y_train shape: (34685,)\n",
      "X_test shape: (14865, 2)\n",
      "y_test shape: (14865,)\n"
     ]
    }
   ],
   "source": [
    "X = wpr[['Length', 'Hurst']]\n",
    "y = wpr['Colour_idx']\n",
    "X_train, X_test, y_train, y_test = train_test_split(X, y, test_size=0.3, random_state=0)\n",
    "print('X_train shape: {}'.format(X_train.shape))\n",
    "print('y_train shape: {}'.format(y_train.shape))\n",
    "print('X_test shape: {}'.format(X_test.shape))\n",
    "print('y_test shape: {}'.format(y_test.shape))"
   ]
  },
  {
   "cell_type": "markdown",
   "metadata": {},
   "source": [
    "## Train and test sets plots"
   ]
  },
  {
   "cell_type": "code",
   "execution_count": 6,
   "metadata": {},
   "outputs": [
    {
     "data": {
      "text/plain": [
       "<matplotlib.legend.Legend at 0x1a29175b00>"
      ]
     },
     "execution_count": 6,
     "metadata": {},
     "output_type": "execute_result"
    },
    {
     "data": {
      "image/png": "[encoded data removed]",
      "text/plain": [
       "<Figure size 1080x360 with 2 Axes>"
      ]
     },
     "metadata": {},
     "output_type": "display_data"
    }
   ],
   "source": [
    "L_train = X_train['Length']\n",
    "H_train = X_train['Hurst']\n",
    "L_test = X_test['Length']\n",
    "H_test = X_test['Hurst']\n",
    "plt.figure(figsize=(15, 5))\n",
    "plt.subplot(121)\n",
    "plt.plot(L_train[y_train == 0], H_train[y_train == 0], 'ok', label='$H_{wn}$ train')\n",
    "plt.plot(L_train[y_train == 1], H_train[y_train == 1], 'oc', label='$H_{wpn}$ train')\n",
    "plt.plot(L_train[y_train == 2], H_train[y_train == 2], 'om', label='$H_{pn}$ train')\n",
    "plt.plot(L_train[y_train == 3], H_train[y_train == 3], 'og', label='$H_{prn}$ train')\n",
    "plt.plot(L_train[y_train == 4], H_train[y_train == 4], 'or', label='$H_{rn}$ train')\n",
    "plt.xlim(-200, 10300)\n",
    "plt.ylim(0.3, 1.8)\n",
    "plt.title('Hurst exponent for white, whink, pink, pired, and red noises (Train)')\n",
    "plt.xlabel('Time series length')\n",
    "plt.ylabel('Hurst exponent')\n",
    "plt.legend(ncol=3, loc=1)\n",
    "plt.subplot(122)\n",
    "plt.plot(L_test[y_test == 0], H_test[y_test == 0], 'ok', label='$H_{wn}$ test')\n",
    "plt.plot(L_test[y_test == 1], H_test[y_test == 1], 'oc', label='$H_{wpn}$ test')\n",
    "plt.plot(L_test[y_test == 2], H_test[y_test == 2], 'om', label='$H_{pn}$ test')\n",
    "plt.plot(L_test[y_test == 3], H_test[y_test == 3], 'og', label='$H_{prn}$ test')\n",
    "plt.plot(L_test[y_test == 4], H_test[y_test == 4], 'or', label='$H_{rn}$ test')\n",
    "plt.xlim(-200, 10300)\n",
    "plt.ylim(0.3, 1.8)\n",
    "plt.title('Hurst exponent for white, whink, pink, pired, and red noises (Test)')\n",
    "plt.xlabel('Time series length')\n",
    "plt.ylabel('Hurst exponent')\n",
    "plt.legend(ncol=3, loc=1)"
   ]
  },
  {
   "cell_type": "markdown",
   "metadata": {},
   "source": [
    "# Neural Network"
   ]
  },
  {
   "cell_type": "markdown",
   "metadata": {},
   "source": [
    "## Feature scaling"
   ]
  },
  {
   "cell_type": "code",
   "execution_count": 7,
   "metadata": {},
   "outputs": [],
   "source": [
    "scaler = StandardScaler()\n",
    "X_train_scaled = scaler.fit_transform(X_train)\n",
    "X_test_scaled = scaler.transform(X_test)\n",
    "X_mean = scaler.mean_\n",
    "X_std = np.sqrt(scaler.var_)"
   ]
  },
  {
   "cell_type": "markdown",
   "metadata": {},
   "source": [
    "## Setting graph"
   ]
  },
  {
   "cell_type": "code",
   "execution_count": 8,
   "metadata": {},
   "outputs": [],
   "source": [
    "# parameters\n",
    "n_inputs = 2\n",
    "n_hidden1 = 10\n",
    "n_outputs = 5"
   ]
  },
  {
   "cell_type": "code",
   "execution_count": 9,
   "metadata": {},
   "outputs": [],
   "source": [
    "# placeholders\n",
    "train_data = tf.placeholder(tf.float32, shape=(None, n_inputs), name='train_data')\n",
    "train_classes = tf.placeholder(tf.int64, shape=(None), name='train_classes')"
   ]
  },
  {
   "cell_type": "code",
   "execution_count": 10,
   "metadata": {},
   "outputs": [],
   "source": [
    "# nn model\n",
    "with tf.name_scope('dnn'):\n",
    "    hidden1 = tf.layers.dense(train_data, n_hidden1, name='hidden1', activation=tf.nn.relu)\n",
    "    logits = tf.layers.dense(hidden1, n_outputs, name='outputs')"
   ]
  },
  {
   "cell_type": "code",
   "execution_count": 11,
   "metadata": {},
   "outputs": [],
   "source": [
    "# cost function for training\n",
    "with tf.name_scope('loss'):\n",
    "    xentropy = tf.nn.sparse_softmax_cross_entropy_with_logits(labels=train_classes, logits=logits)\n",
    "    loss = tf.reduce_mean(xentropy, name='loss')"
   ]
  },
  {
   "cell_type": "code",
   "execution_count": 12,
   "metadata": {},
   "outputs": [],
   "source": [
    "# minimization of the cost function\n",
    "learning_rate = 0.01\n",
    "with tf.name_scope('train'):\n",
    "    optimizer = tf.train.GradientDescentOptimizer(learning_rate)\n",
    "    training_op = optimizer.minimize(loss)"
   ]
  },
  {
   "cell_type": "code",
   "execution_count": 13,
   "metadata": {},
   "outputs": [],
   "source": [
    "# specification of how to evaluate the model\n",
    "with tf.name_scope('eval'):\n",
    "    correct = tf.nn.in_top_k(logits, train_classes, 1)\n",
    "    accuracy = tf.reduce_mean(tf.cast(correct, tf.float32))"
   ]
  },
  {
   "cell_type": "code",
   "execution_count": 14,
   "metadata": {},
   "outputs": [],
   "source": [
    "# initialize and save the model\n",
    "init = tf.global_variables_initializer()\n",
    "saver = tf.train.Saver()"
   ]
  },
  {
   "cell_type": "code",
   "execution_count": 54,
   "metadata": {},
   "outputs": [],
   "source": [
    "# close other possible sessions\n",
    "try:\n",
    "    sess.close()\n",
    "except:\n",
    "    print('No other active sessions')"
   ]
  },
  {
   "cell_type": "code",
   "execution_count": 55,
   "metadata": {},
   "outputs": [
    {
     "name": "stderr",
     "output_type": "stream",
     "text": [
      "/Applications/anaconda3/lib/python3.6/site-packages/tensorflow/python/client/session.py:1662: UserWarning: An interactive session is already active. This can cause out-of-memory errors in some cases. You must explicitly call `InteractiveSession.close()` to release resources held by the other session(s).\n",
      "  warnings.warn('An interactive session is already active. This can '\n"
     ]
    },
    {
     "name": "stdout",
     "output_type": "stream",
     "text": [
      "0 Train accuracy: 0.66 Validation accuracy: 0.5491423\n",
      "1 Train accuracy: 0.86 Validation accuracy: 0.83619237\n",
      "2 Train accuracy: 0.94 Validation accuracy: 0.92203164\n",
      "3 Train accuracy: 0.96 Validation accuracy: 0.9473932\n",
      "4 Train accuracy: 0.96 Validation accuracy: 0.9568113\n",
      "5 Train accuracy: 0.96 Validation accuracy: 0.96051127\n",
      "6 Train accuracy: 0.96 Validation accuracy: 0.9632022\n",
      "7 Train accuracy: 0.96 Validation accuracy: 0.96582574\n",
      "8 Train accuracy: 0.96 Validation accuracy: 0.9667003\n",
      "9 Train accuracy: 0.94 Validation accuracy: 0.9669694\n",
      "10 Train accuracy: 0.96 Validation accuracy: 0.9674403\n",
      "11 Train accuracy: 0.96 Validation accuracy: 0.96757483\n",
      "12 Train accuracy: 0.96 Validation accuracy: 0.9679785\n",
      "13 Train accuracy: 0.96 Validation accuracy: 0.9679785\n",
      "14 Train accuracy: 0.96 Validation accuracy: 0.9681803\n",
      "15 Train accuracy: 0.96 Validation accuracy: 0.9680458\n",
      "16 Train accuracy: 0.96 Validation accuracy: 0.96824753\n",
      "17 Train accuracy: 0.96 Validation accuracy: 0.9681803\n",
      "18 Train accuracy: 0.96 Validation accuracy: 0.96824753\n",
      "19 Train accuracy: 0.96 Validation accuracy: 0.9683821\n",
      "20 Train accuracy: 0.96 Validation accuracy: 0.96824753\n",
      "21 Train accuracy: 0.96 Validation accuracy: 0.9681803\n",
      "22 Train accuracy: 0.96 Validation accuracy: 0.9681803\n",
      "23 Train accuracy: 0.96 Validation accuracy: 0.968113\n",
      "24 Train accuracy: 0.96 Validation accuracy: 0.968113\n",
      "25 Train accuracy: 0.96 Validation accuracy: 0.9681803\n",
      "26 Train accuracy: 0.96 Validation accuracy: 0.96824753\n",
      "27 Train accuracy: 0.96 Validation accuracy: 0.9683148\n",
      "28 Train accuracy: 0.96 Validation accuracy: 0.96824753\n",
      "29 Train accuracy: 0.96 Validation accuracy: 0.9681803\n",
      "30 Train accuracy: 0.96 Validation accuracy: 0.9681803\n",
      "31 Train accuracy: 0.96 Validation accuracy: 0.9681803\n",
      "32 Train accuracy: 0.96 Validation accuracy: 0.9683148\n",
      "33 Train accuracy: 0.96 Validation accuracy: 0.96824753\n",
      "34 Train accuracy: 0.96 Validation accuracy: 0.9683148\n",
      "35 Train accuracy: 0.96 Validation accuracy: 0.9683821\n",
      "36 Train accuracy: 0.96 Validation accuracy: 0.9683148\n",
      "37 Train accuracy: 0.96 Validation accuracy: 0.9683148\n",
      "38 Train accuracy: 0.96 Validation accuracy: 0.9683821\n",
      "39 Train accuracy: 0.98 Validation accuracy: 0.9683821\n",
      "40 Train accuracy: 0.98 Validation accuracy: 0.9683821\n",
      "41 Train accuracy: 0.98 Validation accuracy: 0.9683821\n",
      "42 Train accuracy: 0.98 Validation accuracy: 0.96844935\n",
      "43 Train accuracy: 0.98 Validation accuracy: 0.9683148\n",
      "44 Train accuracy: 0.98 Validation accuracy: 0.9683148\n",
      "45 Train accuracy: 0.98 Validation accuracy: 0.9683148\n",
      "46 Train accuracy: 0.98 Validation accuracy: 0.9683148\n",
      "47 Train accuracy: 0.98 Validation accuracy: 0.9683148\n",
      "48 Train accuracy: 0.98 Validation accuracy: 0.9683148\n",
      "49 Train accuracy: 0.98 Validation accuracy: 0.9683148\n",
      "50 Train accuracy: 0.98 Validation accuracy: 0.9683821\n",
      "51 Train accuracy: 0.98 Validation accuracy: 0.9683821\n",
      "52 Train accuracy: 0.98 Validation accuracy: 0.9683821\n",
      "53 Train accuracy: 0.98 Validation accuracy: 0.9683821\n",
      "54 Train accuracy: 0.98 Validation accuracy: 0.9683821\n",
      "55 Train accuracy: 0.98 Validation accuracy: 0.9683821\n",
      "56 Train accuracy: 0.98 Validation accuracy: 0.9683148\n",
      "57 Train accuracy: 0.98 Validation accuracy: 0.9683821\n",
      "58 Train accuracy: 0.98 Validation accuracy: 0.9683821\n",
      "59 Train accuracy: 0.98 Validation accuracy: 0.9683821\n",
      "60 Train accuracy: 0.98 Validation accuracy: 0.9683821\n",
      "61 Train accuracy: 0.98 Validation accuracy: 0.9683821\n",
      "62 Train accuracy: 0.98 Validation accuracy: 0.9683821\n",
      "63 Train accuracy: 0.98 Validation accuracy: 0.96824753\n",
      "64 Train accuracy: 0.98 Validation accuracy: 0.96824753\n",
      "65 Train accuracy: 0.98 Validation accuracy: 0.9683148\n",
      "66 Train accuracy: 0.98 Validation accuracy: 0.9683148\n",
      "67 Train accuracy: 0.98 Validation accuracy: 0.9681803\n",
      "68 Train accuracy: 0.98 Validation accuracy: 0.96824753\n",
      "69 Train accuracy: 0.98 Validation accuracy: 0.96824753\n",
      "70 Train accuracy: 0.98 Validation accuracy: 0.968113\n",
      "71 Train accuracy: 0.98 Validation accuracy: 0.9681803\n",
      "72 Train accuracy: 0.98 Validation accuracy: 0.9681803\n",
      "73 Train accuracy: 0.98 Validation accuracy: 0.9681803\n",
      "74 Train accuracy: 0.98 Validation accuracy: 0.9681803\n",
      "75 Train accuracy: 0.98 Validation accuracy: 0.968113\n",
      "76 Train accuracy: 0.98 Validation accuracy: 0.968113\n",
      "77 Train accuracy: 0.98 Validation accuracy: 0.9681803\n",
      "78 Train accuracy: 0.98 Validation accuracy: 0.9681803\n",
      "79 Train accuracy: 0.98 Validation accuracy: 0.968113\n",
      "80 Train accuracy: 0.98 Validation accuracy: 0.9681803\n",
      "81 Train accuracy: 0.98 Validation accuracy: 0.96824753\n",
      "82 Train accuracy: 0.98 Validation accuracy: 0.96824753\n",
      "83 Train accuracy: 0.98 Validation accuracy: 0.96824753\n",
      "84 Train accuracy: 0.98 Validation accuracy: 0.9683148\n",
      "85 Train accuracy: 0.98 Validation accuracy: 0.9683821\n",
      "86 Train accuracy: 0.98 Validation accuracy: 0.9683148\n",
      "87 Train accuracy: 0.98 Validation accuracy: 0.9683821\n",
      "88 Train accuracy: 0.98 Validation accuracy: 0.9683148\n",
      "89 Train accuracy: 0.98 Validation accuracy: 0.9683821\n",
      "90 Train accuracy: 0.98 Validation accuracy: 0.9683821\n",
      "91 Train accuracy: 0.98 Validation accuracy: 0.9683821\n",
      "92 Train accuracy: 0.98 Validation accuracy: 0.9683821\n",
      "93 Train accuracy: 0.98 Validation accuracy: 0.9683148\n",
      "94 Train accuracy: 0.98 Validation accuracy: 0.9681803\n",
      "95 Train accuracy: 0.98 Validation accuracy: 0.968113\n",
      "96 Train accuracy: 0.98 Validation accuracy: 0.968113\n",
      "97 Train accuracy: 0.98 Validation accuracy: 0.9679785\n",
      "98 Train accuracy: 0.98 Validation accuracy: 0.9679785\n",
      "99 Train accuracy: 0.98 Validation accuracy: 0.9679112\n"
     ]
    }
   ],
   "source": [
    "# execution\n",
    "n_epochs = 100\n",
    "batch_size = 50\n",
    "sess = tf.InteractiveSession()\n",
    "init.run()\n",
    "for epoch in range(n_epochs):\n",
    "    for iteration in range(len(y_train) // batch_size):\n",
    "        X_batch = X_train_scaled[iteration*batch_size:(iteration+1)*batch_size,:]\n",
    "        y_batch = y_train[iteration*batch_size:(iteration+1)*batch_size]\n",
    "        sess.run(training_op, feed_dict={train_data: X_batch, train_classes: y_batch})\n",
    "    acc_train = accuracy.eval(feed_dict={train_data: X_batch, train_classes: y_batch})\n",
    "    acc_val = accuracy.eval(feed_dict={train_data: X_test_scaled, train_classes: y_test})\n",
    "    print(epoch, 'Train accuracy:', acc_train, 'Validation accuracy:', acc_val)\n",
    "save_path = saver.save(sess, './saved_model/my_model_final.ckpt')\n",
    "sess.close()"
   ]
  },
  {
   "cell_type": "code",
   "execution_count": 56,
   "metadata": {},
   "outputs": [
    {
     "name": "stdout",
     "output_type": "stream",
     "text": [
      "INFO:tensorflow:Restoring parameters from ./saved_model/my_model_final.ckpt\n"
     ]
    },
    {
     "name": "stderr",
     "output_type": "stream",
     "text": [
      "/Applications/anaconda3/lib/python3.6/site-packages/tensorflow/python/client/session.py:1662: UserWarning: An interactive session is already active. This can cause out-of-memory errors in some cases. You must explicitly call `InteractiveSession.close()` to release resources held by the other session(s).\n",
      "  warnings.warn('An interactive session is already active. This can '\n"
     ]
    }
   ],
   "source": [
    "# using the model\n",
    "sess = tf.InteractiveSession()\n",
    "saver.restore(sess, './saved_model/my_model_final.ckpt')"
   ]
  },
  {
   "cell_type": "code",
   "execution_count": 59,
   "metadata": {},
   "outputs": [
    {
     "name": "stdout",
     "output_type": "stream",
     "text": [
      "Predicted class is: pired\n"
     ]
    }
   ],
   "source": [
    "values = scaler.transform([[1023, 1.3]])\n",
    "Z = logits.eval(feed_dict={train_data: values})\n",
    "y_pred = np.argmax(Z, axis=1)\n",
    "class_dict = {0: 'white', 1: 'whink', 2: 'pink', 3: 'pired', 4: 'red'}\n",
    "print('Predicted class is:', class_dict[y_pred[0]])"
   ]
  },
  {
   "cell_type": "code",
   "execution_count": null,
   "metadata": {},
   "outputs": [],
   "source": [
    "### decision boundary plot\n",
    "lx = -200\n",
    "rx = 10300\n",
    "by = 0.3\n",
    "ty = 1.8\n",
    "step = 0.01\n",
    "lim_new = scaler.transform([[lx, by], [rx, ty]])\n",
    "xx, yy = np.mgrid[lim_new[0, 0]:lim_new[1, 0]+step:step, lim_new[0, 1]:lim_new[1, 1]+step:step]\n",
    "pnts = np.c_[xx.ravel(), yy.ravel()]\n",
    "Z = logits.eval(feed_dict={train_data: pnts})\n",
    "probs = np.argmax(Z, axis=1).reshape(xx.shape)\n",
    "xx_new = xx * X_std + X_mean\n",
    "yy_new = yy * X_std + X_mean\n",
    "# Create color maps\n",
    "cmap_light = ListedColormap(['#FFFFFF', '#AAAAFF', '#FFAAFF', '#AAFFAA', '#FFAAAA'])\n",
    "cmap_bold = ListedColormap(['#FFFFFF', '#0000FF', '#FF00FF', '#00FF00', '#FF0000'])\n",
    "plt.figure(figsize=(10, 5))\n",
    "plt.pcolormesh(xx_new, yy_new, probs, cmap=cmap_light)\n",
    "plt.scatter(X['Length'], X['Hurst'], c=y, cmap=cmap_bold, edgecolor='k', s=25, linewidth=1)\n",
    "cbar = plt.colorbar()\n",
    "cbar.set_ticks([0.5, 1.35, 2.1, 2.95, 3.7])\n",
    "cbar.ax.set_yticklabels(['white', 'whink', 'pink', 'pired', 'red'], rotation=90)\n",
    "plt.xlim(lx, rx)\n",
    "plt.ylim(by, ty)\n",
    "plt.title('Hurst exponent for white, whink, pink, pired, and red noises (Neural Network)')\n",
    "plt.xlabel('Time series length')\n",
    "plt.ylabel('Hurst exponent')"
   ]
  }
 ],
 "metadata": {
  "kernelspec": {
   "display_name": "Python 3",
   "language": "python",
   "name": "python3"
  },
  "language_info": {
   "codemirror_mode": {
    "name": "ipython",
    "version": 3
   },
   "file_extension": ".py",
   "mimetype": "text/x-python",
   "name": "python",
   "nbconvert_exporter": "python",
   "pygments_lexer": "ipython3",
   "version": "3.6.4"
  }
 },
 "nbformat": 4,
 "nbformat_minor": 2
}
